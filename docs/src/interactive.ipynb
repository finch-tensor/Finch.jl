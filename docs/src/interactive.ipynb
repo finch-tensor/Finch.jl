{
 "cells": [
  {
   "cell_type": "markdown",
   "source": [
    "An example generating sparse code with Finch, make some changes and give it a try!\n",
    "\n",
    "A note to visitors using Binder: it may take a minute or\n",
    "two to compile the first kernel, perhaps enjoy a nice little coffee break ^.^"
   ],
   "metadata": {}
  },
  {
   "outputs": [
    {
     "output_type": "execute_result",
     "data": {
      "text/plain": "quote\n    y = ex.body.body.lhs.tns.bind\n    A_lvl = (ex.body.body.rhs.args[1]).tns.bind.lvl\n    A_lvl_2 = A_lvl.lvl\n    A_lvl_ptr = A_lvl_2.ptr\n    A_lvl_idx = A_lvl_2.idx\n    A_lvl_2_val = A_lvl_2.lvl.val\n    x = (ex.body.body.rhs.args[2]).tns.bind\n    sugar_1 = size(y)\n    y_mode1_stop = sugar_1[1]\n    A_lvl_2.shape == y_mode1_stop || throw(DimensionMismatch(\"mismatched dimension limits ($(A_lvl_2.shape) != $(y_mode1_stop))\"))\n    sugar_2 = size(x)\n    x_mode1_stop = sugar_2[1]\n    x_mode1_stop == A_lvl.shape || throw(DimensionMismatch(\"mismatched dimension limits ($(x_mode1_stop) != $(A_lvl.shape))\"))\n    for j_4 = 1:x_mode1_stop\n        sugar_3 = size(x)\n        x_mode1_stop = sugar_3[1]\n        val = x[j_4]\n        A_lvl_q = (1 - 1) * A_lvl.shape + j_4\n        A_lvl_2_q = A_lvl_ptr[A_lvl_q]\n        A_lvl_2_q_stop = A_lvl_ptr[A_lvl_q + 1]\n        if A_lvl_2_q < A_lvl_2_q_stop\n            A_lvl_2_i1 = A_lvl_idx[A_lvl_2_q_stop - 1]\n        else\n            A_lvl_2_i1 = 0\n        end\n        phase_stop = min(A_lvl_2.shape, A_lvl_2_i1)\n        if phase_stop >= 1\n            if A_lvl_idx[A_lvl_2_q] < 1\n                A_lvl_2_q = Finch.scansearch(A_lvl_idx, 1, A_lvl_2_q, A_lvl_2_q_stop - 1)\n            end\n            while true\n                A_lvl_2_i = A_lvl_idx[A_lvl_2_q]\n                if A_lvl_2_i < phase_stop\n                    A_lvl_3_val = A_lvl_2_val[A_lvl_2_q]\n                    y[A_lvl_2_i] = val * A_lvl_3_val + y[A_lvl_2_i]\n                    A_lvl_2_q += 1\n                else\n                    phase_stop_3 = min(A_lvl_2_i, phase_stop)\n                    if A_lvl_2_i == phase_stop_3\n                        A_lvl_3_val = A_lvl_2_val[A_lvl_2_q]\n                        y[phase_stop_3] = val * A_lvl_3_val + y[phase_stop_3]\n                        A_lvl_2_q += 1\n                    end\n                    break\n                end\n            end\n        end\n    end\n    (y = y,)\nend"
     },
     "metadata": {},
     "execution_count": 1
    }
   ],
   "cell_type": "code",
   "source": [
    "using Finch\n",
    "\n",
    "# Construct a CSR sparse input matrix (20% random nonzeros)\n",
    "A = Tensor(Dense(SparseList(Element(0.0))), fsprand(5, 7, 0.2))\n",
    "\n",
    "# Construct a dense vector input and output (all random values)\n",
    "x = rand(7)\n",
    "y = rand(5)\n",
    "\n",
    "# Emit code for matrix-vector multiply y = A * x\n",
    "@finch_code begin\n",
    "    for j = _, i = _\n",
    "        y[i] += A[i, j] * x[j]\n",
    "    end\n",
    "end"
   ],
   "metadata": {},
   "execution_count": 1
  }
 ],
 "nbformat_minor": 3,
 "metadata": {
  "language_info": {
   "file_extension": ".jl",
   "mimetype": "application/julia",
   "name": "julia",
   "version": "1.10.0"
  },
  "kernelspec": {
   "name": "julia-1.10",
   "display_name": "Julia 1.10.0",
   "language": "julia"
  }
 },
 "nbformat": 4
}
